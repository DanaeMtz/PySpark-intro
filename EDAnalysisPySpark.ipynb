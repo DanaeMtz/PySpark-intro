{
 "cells": [
  {
   "cell_type": "markdown",
   "metadata": {},
   "source": [
    "# Exploratory Data Analysis in pySpark\n",
    "\n",
    "Data Exploration is about describing the data by means of statistical and visualization techniques. We explore data in order to understand the features and bring important features to our models."
   ]
  },
  {
   "cell_type": "code",
   "execution_count": 11,
   "metadata": {},
   "outputs": [],
   "source": [
    "from pyspark import SparkContext\n",
    "from pyspark.sql import SparkSession\n",
    "from pyspark.sql import SQLContext\n",
    "\n",
    "from pyspark.sql.types import *\n",
    "from pyspark.sql.functions import *\n",
    "\n",
    "sc = SparkContext(master = \"local\" \\\n",
    "                , appName = \"Exploratory Data Analysis\") \n",
    "\n",
    "# Create a spark session \n",
    "spark = SparkSession(sc)\n",
    "sqlContext = SQLContext(spark)"
   ]
  },
  {
   "cell_type": "code",
   "execution_count": 12,
   "metadata": {},
   "outputs": [],
   "source": [
    "# Files we will be working with\n",
    "path = \"/home/danae/Documents/pySparkTraining/files/\""
   ]
  },
  {
   "cell_type": "markdown",
   "metadata": {},
   "source": [
    "## Defining a schema\n",
    "Creating a defined schema helps with data quality and import performance. "
   ]
  },
  {
   "cell_type": "code",
   "execution_count": 13,
   "metadata": {},
   "outputs": [],
   "source": [
    "# read the data \n",
    "sportSchema = StructType([\n",
    "    StructField('sport_id', IntegerType(), False),\n",
    "    StructField('sport', StringType(), False)\n",
    "])\n",
    "\n",
    "sportDF = sqlContext.read.schema(sportSchema) \\\n",
    "            .option('header', 'true').csv(path + 'deporte.csv')"
   ]
  },
  {
   "cell_type": "code",
   "execution_count": 14,
   "metadata": {},
   "outputs": [],
   "source": [
    "resultSchema = StructType([\n",
    "    StructField('result_id', IntegerType(), False),\n",
    "    StructField('medal', StringType(), False),\n",
    "    StructField('athlete_id', IntegerType(), False),\n",
    "    StructField('game_id', IntegerType(), False),\n",
    "    StructField('event_id', IntegerType(), False),    \n",
    "])\n",
    "\n",
    "resultDF = sqlContext.read.schema(resultSchema) \\\n",
    "            .option('header', 'true').csv(path + 'resultados.csv')"
   ]
  },
  {
   "cell_type": "code",
   "execution_count": 15,
   "metadata": {},
   "outputs": [],
   "source": [
    "gameSchema = StructType([\n",
    "    StructField('game_id', IntegerType(), False),\n",
    "    StructField('name_game', StringType(), False),\n",
    "    StructField('year', StringType(), False),\n",
    "    StructField('season', StringType(), False),\n",
    "    StructField('city', StringType(), False)\n",
    "])\n",
    "\n",
    "gameDF = sqlContext.read.schema(gameSchema) \\\n",
    "            .option('header', 'true').csv(path + 'juegos.csv')"
   ]
  },
  {
   "cell_type": "code",
   "execution_count": 16,
   "metadata": {},
   "outputs": [],
   "source": [
    "athleteSchema = StructType([\n",
    "    StructField('athlete_id', IntegerType(), False),\n",
    "    StructField('name', StringType(), False),\n",
    "    StructField('gender', IntegerType(), False),\n",
    "    StructField('age', IntegerType(), False),\n",
    "    StructField('height', IntegerType(), False),\n",
    "    StructField('weigth', FloatType(), False),\n",
    "    StructField('team_id', IntegerType(), False)\n",
    "])\n",
    "\n",
    "athleteDF = sqlContext.read.schema(athleteSchema) \\\n",
    "            .option('header', 'true').csv(path + 'deportista.csv')"
   ]
  },
  {
   "cell_type": "code",
   "execution_count": 17,
   "metadata": {},
   "outputs": [
    {
     "name": "stdout",
     "output_type": "stream",
     "text": [
      "+--------+----------+\n",
      "|sport_id|     sport|\n",
      "+--------+----------+\n",
      "|       1|Basketball|\n",
      "|       2|      Judo|\n",
      "+--------+----------+\n",
      "only showing top 2 rows\n",
      "\n",
      "+-------+-----------+----+------+------+\n",
      "|game_id|  name_game|year|season|  city|\n",
      "+-------+-----------+----+------+------+\n",
      "|      1|1896 Verano|1896|Verano|Athina|\n",
      "|      2|1900 Verano|1900|Verano| Paris|\n",
      "+-------+-----------+----+------+------+\n",
      "only showing top 2 rows\n",
      "\n",
      "+---------+-----+----------+-------+--------+\n",
      "|result_id|medal|athlete_id|game_id|event_id|\n",
      "+---------+-----+----------+-------+--------+\n",
      "|        1|   NA|         1|     39|       1|\n",
      "|        2|   NA|         2|     49|       2|\n",
      "+---------+-----+----------+-------+--------+\n",
      "only showing top 2 rows\n",
      "\n",
      "+----------+---------+------+---+------+------+-------+\n",
      "|athlete_id|     name|gender|age|height|weigth|team_id|\n",
      "+----------+---------+------+---+------+------+-------+\n",
      "|         1|A Dijiang|     1| 24|   180|  80.0|    199|\n",
      "|         2| A Lamusi|     1| 23|   170|  60.0|    199|\n",
      "+----------+---------+------+---+------+------+-------+\n",
      "only showing top 2 rows\n",
      "\n"
     ]
    }
   ],
   "source": [
    "sportDF.show(2)\n",
    "gameDF.show(2)\n",
    "resultDF.show(2)\n",
    "athleteDF.show(2)"
   ]
  },
  {
   "cell_type": "code",
   "execution_count": 18,
   "metadata": {},
   "outputs": [
    {
     "name": "stdout",
     "output_type": "stream",
     "text": [
      "+--------------------+------+---+------+------+-----+-------------+----+--------+-----------+\n",
      "|                name|gender|age|height|weigth|medal|    name_game|year|  season|       city|\n",
      "+--------------------+------+---+------+------+-----+-------------+----+--------+-----------+\n",
      "|           A Dijiang|     1| 24|   180|  80.0|   NA|  1992 Verano|1992|  Verano|  Barcelona|\n",
      "|            A Lamusi|     1| 23|   170|  60.0|   NA|  2012 Verano|2012|  Verano|     London|\n",
      "| Gunnar Nielsen Aaby|     1| 24|     0|   0.0|   NA|  1920 Verano|1920|  Verano|  Antwerpen|\n",
      "|Edgar Lindenau Aabye|     1| 34|     0|   0.0| Gold|  1900 Verano|1900|  Verano|      Paris|\n",
      "|Christine Jacoba ...|     2| 21|   185|  82.0|   NA|1994 Invierno|1994|Invierno|Lillehammer|\n",
      "+--------------------+------+---+------+------+-----+-------------+----+--------+-----------+\n",
      "only showing top 5 rows\n",
      "\n"
     ]
    }
   ],
   "source": [
    "medal_per_year = athleteDF.join(resultDF, athleteDF.athlete_id == resultDF.athlete_id, \"left\") \\\n",
    "                          .join(gameDF, gameDF.game_id == resultDF.game_id,  \"left\") \\\n",
    "                          .select(\"name\",\"gender\",\"age\", \"height\", \"weigth\", \"medal\",\n",
    "                                  \"name_game\", \"year\", \"season\", \"city\")\n",
    "medal_per_year.show(5)"
   ]
  },
  {
   "cell_type": "code",
   "execution_count": 19,
   "metadata": {},
   "outputs": [],
   "source": [
    "medal_per_year.write.parquet(path + \"olimpic_medals.parquet\") "
   ]
  },
  {
   "cell_type": "markdown",
   "metadata": {},
   "source": [
    "## Inspecting data in PySpark DataFrame\n",
    "Inspecting data is very crucial before performing analysis such as plotting, modeling, training etc.,Inspect the data in the `medal_per_year` DataFrame that you have created in the previous exercise using basic DataFrame operators."
   ]
  },
  {
   "cell_type": "code",
   "execution_count": null,
   "metadata": {},
   "outputs": [],
   "source": [
    "# Count the number of rows \n",
    "print(\"There are {} rows in the medal_per_year DataFrame.\".format(medal_per_year.count()))\n",
    "\n",
    "# Count the number of columns and their names\n",
    "print(\"There are {} columns in the people_df DataFrame and their names are {}\"\n",
    "      .format(len(medal_per_year.columns), medal_per_year.columns))"
   ]
  },
  {
   "cell_type": "code",
   "execution_count": 24,
   "metadata": {},
   "outputs": [
    {
     "name": "stdout",
     "output_type": "stream",
     "text": [
      "\n",
      "There were 134720 rows in the medal_per_year DataFrame before filtering.\n",
      "\n",
      "\n",
      "There are 102108 rows in the medal_per_year DataFrame.\n",
      "\n"
     ]
    }
   ],
   "source": [
    "# Count the rows in voter_df\n",
    "print(\"\\nThere were %d rows in the medal_per_year DataFrame before filtering.\\n\" \n",
    "      % medal_per_year.count())\n",
    "\n",
    "medal_per_year = medal_per_year.filter('height > 0 and weigth > 0')\n",
    "\n",
    "print(\"\\nThere are %d rows in the medal_per_year DataFrame.\\n\" \n",
    "      % medal_per_year.count())"
   ]
  },
  {
   "cell_type": "code",
   "execution_count": 25,
   "metadata": {},
   "outputs": [
    {
     "name": "stdout",
     "output_type": "stream",
     "text": [
      "+--------------------+------+---+------+------+-----+-------------+----+--------+-----------+\n",
      "|                name|gender|age|height|weigth|medal|    name_game|year|  season|       city|\n",
      "+--------------------+------+---+------+------+-----+-------------+----+--------+-----------+\n",
      "|           A Dijiang|     1| 24|   180|  80.0|   NA|  1992 Verano|1992|  Verano|  Barcelona|\n",
      "|            A Lamusi|     1| 23|   170|  60.0|   NA|  2012 Verano|2012|  Verano|     London|\n",
      "|Christine Jacoba ...|     2| 21|   185|  82.0|   NA|1994 Invierno|1994|Invierno|Lillehammer|\n",
      "|Christine Jacoba ...|     2| 21|   185|  82.0|   NA|1994 Invierno|1994|Invierno|Lillehammer|\n",
      "|Christine Jacoba ...|     2| 21|   185|  82.0|   NA|1992 Invierno|1992|Invierno|Albertville|\n",
      "+--------------------+------+---+------+------+-----+-------------+----+--------+-----------+\n",
      "only showing top 5 rows\n",
      "\n"
     ]
    }
   ],
   "source": [
    "medal_per_year.show(5)"
   ]
  },
  {
   "cell_type": "code",
   "execution_count": 41,
   "metadata": {},
   "outputs": [
    {
     "data": {
      "image/png": "[encoded data removed]",
      "text/plain": [
       "<Figure size 360x360 with 1 Axes>"
      ]
     },
     "metadata": {
      "needs_background": "light"
     },
     "output_type": "display_data"
    }
   ],
   "source": [
    "# Select a the relevant columns and sample\n",
    "sample_df = medal_per_year.select('height', 'weigth').sample(False, 0.05, 42)\n",
    "\n",
    "# Convert to pandas dataframe\n",
    "pandas_df = sample_df.toPandas()\n",
    "\n",
    "import seaborn as sns\n",
    "import matplotlib.pyplot as plt\n",
    "# Linear model plot of pandas_df\n",
    "sns.lmplot(x='height', y='weigth', data=pandas_df)\n",
    "plt.show()"
   ]
  },
  {
   "cell_type": "markdown",
   "metadata": {},
   "source": [
    "## Using Corr()\n",
    "\n",
    "The old adage **'Correlation does not imply Causation'** is a cautionary tale. However, correlation does give us a good nudge to know where to start looking promising features to use in our models."
   ]
  },
  {
   "cell_type": "code",
   "execution_count": 40,
   "metadata": {},
   "outputs": [
    {
     "name": "stdout",
     "output_type": "stream",
     "text": [
      "0.7921186022403021\n"
     ]
    }
   ],
   "source": [
    "print(medal_per_year.corr('height', 'weigth'))"
   ]
  },
  {
   "cell_type": "markdown",
   "metadata": {},
   "source": [
    "## Dropping a list of columns\n",
    "\n",
    "Our data set is rich with a lot of features, but not all are valuable. We have many that are going to be hard to wrangle into anything useful. For now, let's remove any columns that aren't immediately useful by dropping them."
   ]
  },
  {
   "cell_type": "code",
   "execution_count": 43,
   "metadata": {},
   "outputs": [
    {
     "data": {
      "text/plain": [
       "['name',\n",
       " 'gender',\n",
       " 'age',\n",
       " 'height',\n",
       " 'weigth',\n",
       " 'medal',\n",
       " 'name_game',\n",
       " 'year',\n",
       " 'season',\n",
       " 'city']"
      ]
     },
     "execution_count": 43,
     "metadata": {},
     "output_type": "execute_result"
    }
   ],
   "source": [
    "medal_per_year.columns"
   ]
  },
  {
   "cell_type": "code",
   "execution_count": 44,
   "metadata": {},
   "outputs": [
    {
     "name": "stdout",
     "output_type": "stream",
     "text": [
      "+--------------------+------+---+------+------+-----+-------------+----+--------+-----------+\n",
      "|                name|gender|age|height|weigth|medal|    name_game|year|  season|       city|\n",
      "+--------------------+------+---+------+------+-----+-------------+----+--------+-----------+\n",
      "|           A Dijiang|     1| 24|   180|  80.0|   NA|  1992 Verano|1992|  Verano|  Barcelona|\n",
      "|            A Lamusi|     1| 23|   170|  60.0|   NA|  2012 Verano|2012|  Verano|     London|\n",
      "|Christine Jacoba ...|     2| 21|   185|  82.0|   NA|1994 Invierno|1994|Invierno|Lillehammer|\n",
      "|Christine Jacoba ...|     2| 21|   185|  82.0|   NA|1994 Invierno|1994|Invierno|Lillehammer|\n",
      "|Christine Jacoba ...|     2| 21|   185|  82.0|   NA|1992 Invierno|1992|Invierno|Albertville|\n",
      "+--------------------+------+---+------+------+-----+-------------+----+--------+-----------+\n",
      "only showing top 5 rows\n",
      "\n",
      "+--------------------+------+---+------+------+-----+-------------+\n",
      "|                name|gender|age|height|weigth|medal|    name_game|\n",
      "+--------------------+------+---+------+------+-----+-------------+\n",
      "|           A Dijiang|     1| 24|   180|  80.0|   NA|  1992 Verano|\n",
      "|            A Lamusi|     1| 23|   170|  60.0|   NA|  2012 Verano|\n",
      "|Christine Jacoba ...|     2| 21|   185|  82.0|   NA|1994 Invierno|\n",
      "|Christine Jacoba ...|     2| 21|   185|  82.0|   NA|1994 Invierno|\n",
      "|Christine Jacoba ...|     2| 21|   185|  82.0|   NA|1992 Invierno|\n",
      "+--------------------+------+---+------+------+-----+-------------+\n",
      "only showing top 5 rows\n",
      "\n"
     ]
    }
   ],
   "source": [
    "# Show top 5 records\n",
    "medal_per_year.show(5)\n",
    "\n",
    "# List of columns to remove from dataset\n",
    "cols_to_drop = ['year',\n",
    " 'season',\n",
    " 'city']\n",
    "\n",
    "# Drop columns in list\n",
    "medal_per_year2 = medal_per_year.drop(*cols_to_drop)\n",
    "medal_per_year2.show(5)"
   ]
  },
  {
   "cell_type": "code",
   "execution_count": null,
   "metadata": {},
   "outputs": [],
   "source": [
    "# Drop NA \n",
    "medal_per_year = medal_per_year.where(~medal_per_year['medal'].like('NA'))\n",
    "# Print count of remaining records\n",
    "print(medal_per_year.count())"
   ]
  },
  {
   "cell_type": "code",
   "execution_count": 47,
   "metadata": {},
   "outputs": [
    {
     "name": "stdout",
     "output_type": "stream",
     "text": [
      "+------+\n",
      "| medal|\n",
      "+------+\n",
      "|Silver|\n",
      "|  Gold|\n",
      "|Bronze|\n",
      "+------+\n",
      "\n"
     ]
    }
   ],
   "source": [
    "# Inspect unique values in the column 'ASSUMABLEMORTGAGE'\n",
    "medal_per_year.select(['medal']).distinct().show()"
   ]
  },
  {
   "cell_type": "markdown",
   "metadata": {},
   "source": [
    "## Filtering numeric fields conditionally\n",
    "\n",
    "Again, understanding the context of your data is extremely important. Let's make sure we exclude any outliers. "
   ]
  },
  {
   "cell_type": "code",
   "execution_count": 50,
   "metadata": {},
   "outputs": [],
   "source": [
    "#from pyspark.sql.functions import mean, stddev\n",
    "\n",
    "# Calculate values used for outlier filtering\n",
    "mean_height = medal_per_year.agg({'height': 'mean'}).collect()[0][0]\n",
    "stddev_height = medal_per_year.agg({'height': 'stddev'}).collect()[0][0]\n",
    "\n",
    "mean_weigth = medal_per_year.agg({'weigth': 'mean'}).collect()[0][0]\n",
    "stddev_weigth = medal_per_year.agg({'weigth': 'stddev'}).collect()[0][0]\n",
    "\n",
    "# Create three standard deviation (μ ± 3σ) lower and upper bounds for data\n",
    "low_bound_h = mean_height - (3 * stddev_height)\n",
    "hi_bound_h = mean_height + (3 * stddev_height)\n",
    "\n",
    "low_bound_w = mean_weigth - (3 * stddev_weigth)\n",
    "hi_bound_w = mean_weigth + (3 * stddev_weigth)\n",
    "\n",
    "# Filter the data to fit between the lower and upper bounds\n",
    "medal_per_year = medal_per_year.where((col('height') < hi_bound_h)  &\n",
    "                                      (col('height') > low_bound_h) & \n",
    "                                      (col('weigth') < hi_bound_w)  &\n",
    "                                      (col('weigth') > low_bound_w))"
   ]
  },
  {
   "cell_type": "code",
   "execution_count": 51,
   "metadata": {},
   "outputs": [
    {
     "name": "stdout",
     "output_type": "stream",
     "text": [
      "14458\n"
     ]
    }
   ],
   "source": [
    "print(medal_per_year.count())"
   ]
  },
  {
   "cell_type": "markdown",
   "metadata": {},
   "source": [
    "## Custom Percentage Scaling"
   ]
  },
  {
   "cell_type": "code",
   "execution_count": 53,
   "metadata": {},
   "outputs": [
    {
     "name": "stdout",
     "output_type": "stream",
     "text": [
      "210\n",
      "146\n"
     ]
    }
   ],
   "source": [
    "# Define max and min values and collect them\n",
    "max_height = medal_per_year.agg({'height': 'max'}).collect()[0][0]\n",
    "min_height = medal_per_year.agg({'height': 'min'}).collect()[0][0]\n",
    "print(max_height)\n",
    "print(min_height)"
   ]
  },
  {
   "cell_type": "code",
   "execution_count": 54,
   "metadata": {},
   "outputs": [
    {
     "name": "stdout",
     "output_type": "stream",
     "text": [
      "+---------------------------+\n",
      "|max(percentagescaledheight)|\n",
      "+---------------------------+\n",
      "|                      100.0|\n",
      "+---------------------------+\n",
      "\n",
      "None\n",
      "+---------------------------+\n",
      "|min(percentagescaledheight)|\n",
      "+---------------------------+\n",
      "|                        0.0|\n",
      "+---------------------------+\n",
      "\n",
      "None\n"
     ]
    }
   ],
   "source": [
    "# Create a new column based off the scaled data\n",
    "medal_per_year = medal_per_year.withColumn(\"percentagescaledheight\", \n",
    "                  round((col(\"height\") - min_height) / (max_height - min_height)) * 100)\n",
    "\n",
    "# Calc max and min for new column\n",
    "print(medal_per_year.agg({'percentagescaledheight': 'max'}).show())\n",
    "print(medal_per_year.agg({'percentagescaledheight': 'min'}).show())"
   ]
  },
  {
   "cell_type": "code",
   "execution_count": 56,
   "metadata": {},
   "outputs": [],
   "source": [
    "# if you want to do the same on several columns, it is better to write a function \n",
    "def min_max_scaler(df, cols_to_scale):\n",
    "    \n",
    "  # Takes a dataframe and list of columns to minmax scale. Returns a dataframe.\n",
    "  for col in cols_to_scale:\n",
    "    # Define min and max values and collect them\n",
    "    max_days = df.agg({col: 'max'}).collect()[0][0]\n",
    "    min_days = df.agg({col: 'min'}).collect()[0][0]\n",
    "    new_column_name = 'scaled_' + col\n",
    "    # Create a new column based off the scaled data\n",
    "    df = df.withColumn(new_column_name, \n",
    "                      (df[col] - min_days) / (max_days - min_days))\n",
    "    return df  "
   ]
  },
  {
   "cell_type": "code",
   "execution_count": 64,
   "metadata": {},
   "outputs": [
    {
     "name": "stdout",
     "output_type": "stream",
     "text": [
      "+------+------+\n",
      "|height|weigth|\n",
      "+------+------+\n",
      "|   184|  85.0|\n",
      "|   175|  64.0|\n",
      "|   175|  64.0|\n",
      "|   175|  64.0|\n",
      "|   175|  64.0|\n",
      "+------+------+\n",
      "only showing top 5 rows\n",
      "\n"
     ]
    }
   ],
   "source": [
    "medal_per_year = min_max_scaler(medal_per_year, cols_to_scale=['weigth'])\n",
    "# Show that our data is now between 0 and 1\n",
    "medal_per_year.select('height', 'weigth').show(5)"
   ]
  },
  {
   "cell_type": "code",
   "execution_count": 66,
   "metadata": {},
   "outputs": [
    {
     "name": "stdout",
     "output_type": "stream",
     "text": [
      "+-------------+-------------------+\n",
      "|scaled_height|      scaled_weigth|\n",
      "+-------------+-------------------+\n",
      "|      0.59375|  0.611764705882353|\n",
      "|     0.453125|0.36470588235294116|\n",
      "|     0.453125|0.36470588235294116|\n",
      "|     0.453125|0.36470588235294116|\n",
      "|     0.453125|0.36470588235294116|\n",
      "+-------------+-------------------+\n",
      "only showing top 5 rows\n",
      "\n"
     ]
    }
   ],
   "source": [
    "medal_per_year.select('scaled_height', 'scaled_weigth').show(5)"
   ]
  },
  {
   "cell_type": "markdown",
   "metadata": {},
   "source": [
    "Creating scalable solutions that can be reused will free up many hours of you and your teams time. "
   ]
  },
  {
   "cell_type": "code",
   "execution_count": 65,
   "metadata": {},
   "outputs": [
    {
     "name": "stdout",
     "output_type": "stream",
     "text": [
      "root\n",
      " |-- name: string (nullable = true)\n",
      " |-- gender: integer (nullable = true)\n",
      " |-- age: integer (nullable = true)\n",
      " |-- height: integer (nullable = true)\n",
      " |-- weigth: float (nullable = true)\n",
      " |-- medal: string (nullable = true)\n",
      " |-- name_game: string (nullable = true)\n",
      " |-- year: string (nullable = true)\n",
      " |-- season: string (nullable = true)\n",
      " |-- city: string (nullable = true)\n",
      " |-- percentagescaledheight: double (nullable = true)\n",
      " |-- scaled_height: double (nullable = true)\n",
      " |-- scaled_weigth: double (nullable = true)\n",
      "\n"
     ]
    }
   ],
   "source": [
    "medal_per_year.printSchema()"
   ]
  },
  {
   "cell_type": "code",
   "execution_count": 10,
   "metadata": {},
   "outputs": [],
   "source": [
    "sc.stop() # close the spark session"
   ]
  }
 ],
 "metadata": {
  "kernelspec": {
   "display_name": "Python 3",
   "language": "python",
   "name": "python3"
  },
  "language_info": {
   "codemirror_mode": {
    "name": "ipython",
    "version": 3
   },
   "file_extension": ".py",
   "mimetype": "text/x-python",
   "name": "python",
   "nbconvert_exporter": "python",
   "pygments_lexer": "ipython3",
   "version": "3.7.6"
  }
 },
 "nbformat": 4,
 "nbformat_minor": 4
}
