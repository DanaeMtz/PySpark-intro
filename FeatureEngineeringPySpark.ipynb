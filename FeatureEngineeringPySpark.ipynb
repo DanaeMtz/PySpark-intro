{
 "cells": [
  {
   "cell_type": "markdown",
   "metadata": {},
   "source": [
    "# Feature Engineering with pySpark\n",
    "\n",
    "### Index \n",
    "\n",
    "1. Feature generation\n",
    "2. Time Features\n",
    "3. Extracting Text to New Features\n",
    "4. Binarizing, Bucketing & Encoding\n"
   ]
  },
  {
   "cell_type": "code",
   "execution_count": 1,
   "metadata": {},
   "outputs": [],
   "source": [
    "from pyspark import SparkContext\n",
    "from pyspark.sql import SparkSession\n",
    "from pyspark.sql import SQLContext\n",
    "from pyspark.sql.functions import *\n",
    "from pyspark.sql.types import *\n",
    "\n",
    "from pyspark.ml import *\n",
    "from pyspark.ml import Pipeline\n",
    "from pyspark.ml.feature import StringIndexer\n",
    "from pyspark.ml.feature import OneHotEncoder\n",
    "from pyspark.ml.feature import VectorAssembler\n",
    "\n",
    "import pyspark.ml.evaluation as evals\n",
    "import pyspark.ml.tuning as tune\n",
    "from pyspark.ml.classification import LogisticRegression\n",
    "\n",
    "sc = SparkContext(master = \"local\", appName = \"ML Pipelines\") \n",
    "spark = SparkSession(sc)\n",
    "sqlContext = SQLContext(spark)"
   ]
  },
  {
   "cell_type": "code",
   "execution_count": 2,
   "metadata": {},
   "outputs": [
    {
     "data": {
      "text/html": [
       "<div>\n",
       "<style scoped>\n",
       "    .dataframe tbody tr th:only-of-type {\n",
       "        vertical-align: middle;\n",
       "    }\n",
       "\n",
       "    .dataframe tbody tr th {\n",
       "        vertical-align: top;\n",
       "    }\n",
       "\n",
       "    .dataframe thead th {\n",
       "        text-align: right;\n",
       "    }\n",
       "</style>\n",
       "<table border=\"1\" class=\"dataframe\">\n",
       "  <thead>\n",
       "    <tr style=\"text-align: right;\">\n",
       "      <th></th>\n",
       "      <th>NO.</th>\n",
       "      <th>MLSID</th>\n",
       "      <th>STREETNUMBERNUMERIC</th>\n",
       "      <th>STREETADDRESS</th>\n",
       "      <th>STREETNAME</th>\n",
       "      <th>POSTALCODE</th>\n",
       "      <th>STATEORPROVINCE</th>\n",
       "      <th>CITY</th>\n",
       "      <th>SALESCLOSEPRICE</th>\n",
       "      <th>LISTDATE</th>\n",
       "      <th>...</th>\n",
       "      <th>ROOMAREA7</th>\n",
       "      <th>ROOMFLOOR7</th>\n",
       "      <th>ROOMAREA8</th>\n",
       "      <th>ROOMFLOOR8</th>\n",
       "      <th>BEDROOMS</th>\n",
       "      <th>SQFTBELOWGROUND</th>\n",
       "      <th>ASSUMABLEMORTGAGE</th>\n",
       "      <th>ASSOCIATIONFEE</th>\n",
       "      <th>ASSESSMENTPENDING</th>\n",
       "      <th>ASSESSEDVALUATION</th>\n",
       "    </tr>\n",
       "  </thead>\n",
       "  <tbody>\n",
       "    <tr>\n",
       "      <th>0</th>\n",
       "      <td>1</td>\n",
       "      <td>RMLS</td>\n",
       "      <td>11511</td>\n",
       "      <td>11511 Stillwater Blvd N</td>\n",
       "      <td>Stillwater</td>\n",
       "      <td>55042</td>\n",
       "      <td>MN</td>\n",
       "      <td>LELM - Lake Elmo</td>\n",
       "      <td>143000</td>\n",
       "      <td>7/15/2017 0:00</td>\n",
       "      <td>...</td>\n",
       "      <td>NaN</td>\n",
       "      <td>NaN</td>\n",
       "      <td>NaN</td>\n",
       "      <td>NaN</td>\n",
       "      <td>3</td>\n",
       "      <td>0</td>\n",
       "      <td>NaN</td>\n",
       "      <td>0</td>\n",
       "      <td>Unknown</td>\n",
       "      <td>0.0</td>\n",
       "    </tr>\n",
       "    <tr>\n",
       "      <th>1</th>\n",
       "      <td>2</td>\n",
       "      <td>RMLS</td>\n",
       "      <td>11200</td>\n",
       "      <td>11200 31st St N</td>\n",
       "      <td>31st</td>\n",
       "      <td>55042</td>\n",
       "      <td>MN</td>\n",
       "      <td>LELM - Lake Elmo</td>\n",
       "      <td>190000</td>\n",
       "      <td>10/9/2017 0:00</td>\n",
       "      <td>...</td>\n",
       "      <td>10x11</td>\n",
       "      <td>Main</td>\n",
       "      <td>11x11</td>\n",
       "      <td>Lower</td>\n",
       "      <td>4</td>\n",
       "      <td>960</td>\n",
       "      <td>NaN</td>\n",
       "      <td>0</td>\n",
       "      <td>Unknown</td>\n",
       "      <td>0.0</td>\n",
       "    </tr>\n",
       "    <tr>\n",
       "      <th>2</th>\n",
       "      <td>3</td>\n",
       "      <td>RMLS</td>\n",
       "      <td>8583</td>\n",
       "      <td>8583 Stillwater Blvd N</td>\n",
       "      <td>Stillwater</td>\n",
       "      <td>55042</td>\n",
       "      <td>MN</td>\n",
       "      <td>LELM - Lake Elmo</td>\n",
       "      <td>225000</td>\n",
       "      <td>6/26/2017 0:00</td>\n",
       "      <td>...</td>\n",
       "      <td>NaN</td>\n",
       "      <td>NaN</td>\n",
       "      <td>NaN</td>\n",
       "      <td>NaN</td>\n",
       "      <td>2</td>\n",
       "      <td>0</td>\n",
       "      <td>Not Assumable</td>\n",
       "      <td>0</td>\n",
       "      <td>No</td>\n",
       "      <td>0.0</td>\n",
       "    </tr>\n",
       "    <tr>\n",
       "      <th>3</th>\n",
       "      <td>4</td>\n",
       "      <td>RMLS</td>\n",
       "      <td>9350</td>\n",
       "      <td>9350 31st St N</td>\n",
       "      <td>31st</td>\n",
       "      <td>55042</td>\n",
       "      <td>MN</td>\n",
       "      <td>LELM - Lake Elmo</td>\n",
       "      <td>265000</td>\n",
       "      <td>8/25/2017 0:00</td>\n",
       "      <td>...</td>\n",
       "      <td>NaN</td>\n",
       "      <td>NaN</td>\n",
       "      <td>NaN</td>\n",
       "      <td>NaN</td>\n",
       "      <td>2</td>\n",
       "      <td>348</td>\n",
       "      <td>NaN</td>\n",
       "      <td>0</td>\n",
       "      <td>Unknown</td>\n",
       "      <td>0.0</td>\n",
       "    </tr>\n",
       "    <tr>\n",
       "      <th>4</th>\n",
       "      <td>5</td>\n",
       "      <td>RMLS</td>\n",
       "      <td>2915</td>\n",
       "      <td>2915 Inwood Ave N</td>\n",
       "      <td>Inwood</td>\n",
       "      <td>55042</td>\n",
       "      <td>MN</td>\n",
       "      <td>LELM - Lake Elmo</td>\n",
       "      <td>249900</td>\n",
       "      <td>9/12/2017 0:00</td>\n",
       "      <td>...</td>\n",
       "      <td>14x13</td>\n",
       "      <td>Lower</td>\n",
       "      <td>NaN</td>\n",
       "      <td>NaN</td>\n",
       "      <td>3</td>\n",
       "      <td>1026</td>\n",
       "      <td>NaN</td>\n",
       "      <td>0</td>\n",
       "      <td>No</td>\n",
       "      <td>0.0</td>\n",
       "    </tr>\n",
       "  </tbody>\n",
       "</table>\n",
       "<p>5 rows × 74 columns</p>\n",
       "</div>"
      ],
      "text/plain": [
       "   NO. MLSID  STREETNUMBERNUMERIC            STREETADDRESS  STREETNAME  \\\n",
       "0    1  RMLS                11511  11511 Stillwater Blvd N  Stillwater   \n",
       "1    2  RMLS                11200          11200 31st St N        31st   \n",
       "2    3  RMLS                 8583   8583 Stillwater Blvd N  Stillwater   \n",
       "3    4  RMLS                 9350           9350 31st St N        31st   \n",
       "4    5  RMLS                 2915        2915 Inwood Ave N      Inwood   \n",
       "\n",
       "   POSTALCODE STATEORPROVINCE              CITY  SALESCLOSEPRICE  \\\n",
       "0       55042              MN  LELM - Lake Elmo           143000   \n",
       "1       55042              MN  LELM - Lake Elmo           190000   \n",
       "2       55042              MN  LELM - Lake Elmo           225000   \n",
       "3       55042              MN  LELM - Lake Elmo           265000   \n",
       "4       55042              MN  LELM - Lake Elmo           249900   \n",
       "\n",
       "         LISTDATE  ...  ROOMAREA7 ROOMFLOOR7  ROOMAREA8  ROOMFLOOR8  BEDROOMS  \\\n",
       "0  7/15/2017 0:00  ...        NaN        NaN        NaN         NaN         3   \n",
       "1  10/9/2017 0:00  ...      10x11       Main      11x11       Lower         4   \n",
       "2  6/26/2017 0:00  ...        NaN        NaN        NaN         NaN         2   \n",
       "3  8/25/2017 0:00  ...        NaN        NaN        NaN         NaN         2   \n",
       "4  9/12/2017 0:00  ...      14x13      Lower        NaN         NaN         3   \n",
       "\n",
       "  SQFTBELOWGROUND ASSUMABLEMORTGAGE ASSOCIATIONFEE ASSESSMENTPENDING  \\\n",
       "0               0               NaN              0           Unknown   \n",
       "1             960               NaN              0           Unknown   \n",
       "2               0     Not Assumable              0                No   \n",
       "3             348               NaN              0           Unknown   \n",
       "4            1026               NaN              0                No   \n",
       "\n",
       "   ASSESSEDVALUATION  \n",
       "0                0.0  \n",
       "1                0.0  \n",
       "2                0.0  \n",
       "3                0.0  \n",
       "4                0.0  \n",
       "\n",
       "[5 rows x 74 columns]"
      ]
     },
     "execution_count": 2,
     "metadata": {},
     "output_type": "execute_result"
    }
   ],
   "source": [
    "import pandas as pd\n",
    "url = 'https://assets.datacamp.com/production/repositories/1704/datasets/d26c25f46746882d0a0f474cc6709c629f69872c/2017_StPaul_MN_Real_Estate.csv'\n",
    "df = pd.read_csv(url)\n",
    "df.columns = map(str.upper, df.columns) # we want all column names in capital letters\n",
    "df.head()"
   ]
  },
  {
   "cell_type": "code",
   "execution_count": 3,
   "metadata": {},
   "outputs": [
    {
     "name": "stdout",
     "output_type": "stream",
     "text": [
      "Index(['NO.', 'MLSID', 'STREETNUMBERNUMERIC', 'STREETADDRESS', 'STREETNAME',\n",
      "       'POSTALCODE', 'STATEORPROVINCE', 'CITY', 'SALESCLOSEPRICE', 'LISTDATE',\n",
      "       'LISTPRICE', 'LISTTYPE', 'ORIGINALLISTPRICE', 'PRICEPERTSFT',\n",
      "       'FOUNDATIONSIZE', 'FENCE', 'MAPLETTER', 'LOTSIZEDIMENSIONS',\n",
      "       'SCHOOLDISTRICTNUMBER', 'DAYSONMARKET', 'OFFMARKETDATE', 'FIREPLACES',\n",
      "       'ROOMAREA4', 'ROOMTYPE', 'ROOF', 'ROOMFLOOR4', 'POTENTIALSHORTSALE',\n",
      "       'POOLDESCRIPTION', 'PDOM', 'GARAGEDESCRIPTION', 'SQFTABOVEGROUND',\n",
      "       'TAXES', 'ROOMFLOOR1', 'ROOMAREA1', 'TAXWITHASSESSMENTS', 'TAXYEAR',\n",
      "       'LIVINGAREA', 'UNITNUMBER', 'YEARBUILT', 'ZONING', 'STYLE', 'ACRES',\n",
      "       'COOLINGDESCRIPTION', 'APPLIANCES', 'BACKONMARKETDATE',\n",
      "       'ROOMFAMILYCHAR', 'ROOMAREA3', 'EXTERIOR', 'ROOMFLOOR3', 'ROOMFLOOR2',\n",
      "       'ROOMAREA2', 'DININGROOMDESCRIPTION', 'BASEMENT', 'BATHSFULL',\n",
      "       'BATHSHALF', 'BATHQUARTER', 'BATHSTHREEQUARTER', 'CLASS', 'BATHSTOTAL',\n",
      "       'BATHDESC', 'ROOMAREA5', 'ROOMFLOOR5', 'ROOMAREA6', 'ROOMFLOOR6',\n",
      "       'ROOMAREA7', 'ROOMFLOOR7', 'ROOMAREA8', 'ROOMFLOOR8', 'BEDROOMS',\n",
      "       'SQFTBELOWGROUND', 'ASSUMABLEMORTGAGE', 'ASSOCIATIONFEE',\n",
      "       'ASSESSMENTPENDING', 'ASSESSEDVALUATION'],\n",
      "      dtype='object')\n"
     ]
    }
   ],
   "source": [
    "print(df.columns)"
   ]
  },
  {
   "cell_type": "code",
   "execution_count": 4,
   "metadata": {},
   "outputs": [],
   "source": [
    "# Create a Spark DataFrame from the pandas data frame \n",
    "dfSchema = StructType([\n",
    "    StructField('NO.', LongType(), False),\n",
    "    StructField('MLSID', StringType(), False),\n",
    "    StructField('STREETNUMBERNUMERIC', LongType(), False),\n",
    "    StructField('STREETADDRESS', StringType(), False),\n",
    "    StructField('STREETNAME', StringType(), False),\n",
    "    StructField('POSTALCODE', LongType(), False),\n",
    "    StructField('STATEORPROVINCE', StringType(), False),\n",
    "    StructField('CITY', StringType(), False),\n",
    "    StructField('SALESCLOSEPRICE', LongType(), False),\n",
    "    StructField('LISTDATE', StringType(), False),\n",
    "    StructField('LISTPRICE', LongType(), False),\n",
    "    StructField('LISTTYPE', StringType(), False),\n",
    "    StructField('ORIGINALLISTPRICE', LongType(), False), \n",
    "    StructField('PRICEPERTSFT', FloatType(), False),\n",
    "    StructField('FOUNDATIONSIZE',  LongType(), False),\n",
    "    StructField('FENCE', StringType(), False),\n",
    "    StructField('MAPLETTER', StringType(), False),\n",
    "    StructField('LOTSIZEDIMENSIONS', StringType(), False),\n",
    "    StructField('SCHOOLDISTRICTNUMBER', StringType(), False),\n",
    "    StructField('DAYSONMARKET', LongType(), False),\n",
    "    StructField('OFFMARKETDATE', StringType(), False), \n",
    "    StructField('FIREPLACES', LongType(), False),\n",
    "    StructField('ROOMAREA4', StringType(), False), \n",
    "    StructField('ROOMTYPE', StringType(), False), \n",
    "    StructField('ROOF', StringType(), False), \n",
    "    StructField('ROOMFLOOR4', StringType(), False), \n",
    "    StructField('POTENTIALSHORTSALE', StringType(), False), \n",
    "    StructField('POOLDESCRIPTION', StringType(), False), \n",
    "    StructField('PDOM', IntegerType(), False),\n",
    "    StructField('GARAGEDESCRIPTION', StringType(), False), \n",
    "    StructField('SQFTABOVEGROUND', LongType(), False),\n",
    "    StructField('TAXES', LongType(), False),\n",
    "    StructField('ROOMFLOOR1', StringType(), False), \n",
    "    StructField('ROOMAREA1', StringType(), False), \n",
    "    StructField('TAXWITHASSESSMENTS', FloatType(), False),\n",
    "    StructField('TAXYEAR', LongType(), False),\n",
    "    StructField('LIVINGAREA', LongType(), False), \n",
    "    StructField('UNITNUMBER', StringType(), False),  \n",
    "    StructField('YEARBUILT', LongType(), False),\n",
    "    StructField('ZONING', StringType(), False), \n",
    "    StructField('STYLE', StringType(), False), \n",
    "    StructField('ACRES', FloatType(), False),\n",
    "    StructField('COOLINGDESCRIPTION', StringType(), False), \n",
    "    StructField('APPLIANCES', StringType(), False), \n",
    "    StructField('BACKONMARKETDATE', FloatType(), False),\n",
    "    StructField('ROOMFAMILYCHAR', StringType(), False), \n",
    "    StructField('ROOMAREA3', StringType(), False), \n",
    "    StructField('EXTERIOR', StringType(), False), \n",
    "    StructField('ROOMFLOOR3', StringType(), False), \n",
    "    StructField('ROOMFLOOR2', StringType(), False), \n",
    "    StructField('ROOMAREA2', StringType(), False), \n",
    "    StructField('DININGROOMDESCRIPTION', StringType(), False), \n",
    "    StructField('BASEMENT', StringType(), False), \n",
    "    StructField('BATHSFULL', LongType(), False),\n",
    "    StructField('BATHSHALF', LongType(), False),\n",
    "    StructField('BATHQUARTER', LongType(), False),\n",
    "    StructField('BATHSTHREEQUARTER', FloatType(), False),\n",
    "    StructField('CLASS', StringType(), False), \n",
    "    StructField('BATHSTOTAL', LongType(), False),\n",
    "    StructField('BATHDESC', StringType(), False), \n",
    "    StructField('ROOMAREA5', StringType(), False), \n",
    "    StructField('ROOMFLOOR5', StringType(), False), \n",
    "    StructField('ROOMAREA6', StringType(), False), \n",
    "    StructField('ROOMFLOOR6', StringType(), False), \n",
    "    StructField('ROOMAREA7', StringType(), False), \n",
    "    StructField('ROOMFLOOR7', StringType(), False), \n",
    "    StructField('ROOMAREA8', StringType(), False), \n",
    "    StructField('ROOMFLOOR8', StringType(), False), \n",
    "    StructField('BEDROOMS', LongType(), False),\n",
    "    StructField('SQFTBELOWGROUND', LongType(), False), \n",
    "    StructField('ASSUMABLEMORTGAGE', StringType(), False), \n",
    "    StructField('ASSOCIATIONFEE', LongType(), False),\n",
    "    StructField('ASSESSMENTPENDING', StringType(), False), \n",
    "    StructField('ASSESSEDVALUATION', FloatType(), False)\n",
    "])\n",
    "\n",
    "real_estate_df = spark.createDataFrame(df, dfSchema)"
   ]
  },
  {
   "cell_type": "markdown",
   "metadata": {},
   "source": [
    "# 1. Feature generation\n",
    "## 1.1 Differences\n",
    "Let's explore generating features using existing ones. In the midwest of the U.S. many single family homes have extra land around them for green space. In this example you will create a new feature called `'YARD_SIZE'`, and then see if the new feature is correlated with our outcome variable."
   ]
  },
  {
   "cell_type": "code",
   "execution_count": 5,
   "metadata": {},
   "outputs": [],
   "source": [
    "# Lot size in square feet\n",
    "acres_to_sqfeet = 43560 # conversion factor\n",
    "df = real_estate_df.withColumn('LOT_SIZE_SQFT', col('ACRES') * acres_to_sqfeet)\n",
    "\n",
    "# Create new column YARD_SIZE by subtracting FOUNDATIONSIZE from LOT_SIZE_SQFT\n",
    "df = df.withColumn('YARD_SIZE', col('LOT_SIZE_SQFT') - col('FOUNDATIONSIZE'))"
   ]
  },
  {
   "cell_type": "code",
   "execution_count": 6,
   "metadata": {},
   "outputs": [
    {
     "name": "stdout",
     "output_type": "stream",
     "text": [
      "Corr of ACRES vs SALESCLOSEPRICE: 0.22060612287915649\n",
      "Corr of FOUNDATIONSIZE vs SALESCLOSEPRICE: 0.6152231695664401\n",
      "Corr of YARD_SIZE vs SALESCLOSEPRICE: 0.20714585146790906\n"
     ]
    }
   ],
   "source": [
    "# Corr of ACRES vs SALESCLOSEPRICE\n",
    "print(\"Corr of ACRES vs SALESCLOSEPRICE: \" + str(df.corr('LOT_SIZE_SQFT', 'SALESCLOSEPRICE')))\n",
    "# Corr of FOUNDATIONSIZE vs SALESCLOSEPRICE\n",
    "print(\"Corr of FOUNDATIONSIZE vs SALESCLOSEPRICE: \" + str(df.corr('FOUNDATIONSIZE', 'SALESCLOSEPRICE')))\n",
    "# Corr of YARD_SIZE vs SALESCLOSEPRICE\n",
    "print(\"Corr of YARD_SIZE vs SALESCLOSEPRICE: \" + str(df.corr('YARD_SIZE', 'SALESCLOSEPRICE')))"
   ]
  },
  {
   "cell_type": "markdown",
   "metadata": {},
   "source": [
    "## 1.2 Ratios\n",
    "Ratios are all around us. Whether it's miles per gallon or click through rate, they are everywhere. In this exercise, we'll create some ratios by dividing out pairs of columns."
   ]
  },
  {
   "cell_type": "code",
   "execution_count": 7,
   "metadata": {},
   "outputs": [
    {
     "name": "stdout",
     "output_type": "stream",
     "text": [
      "+-----------------+---------+--------------------+\n",
      "|ASSESSEDVALUATION|LISTPRICE|    ASSESSED_TO_LIST|\n",
      "+-----------------+---------+--------------------+\n",
      "|           2861.0|    40000|            0.071525|\n",
      "|            450.0|    44900| 0.01002227171492205|\n",
      "|           150.22|    49900|0.003010420866146...|\n",
      "|           312.78|    50000|0.006255599975585937|\n",
      "|            344.0|    50000|             0.00688|\n",
      "+-----------------+---------+--------------------+\n",
      "only showing top 5 rows\n",
      "\n"
     ]
    }
   ],
   "source": [
    "# ASSESSED_TO_LIST\n",
    "# To help us understand if the having a high or low assessment value impacts our price.\n",
    "df = df.withColumn('ASSESSED_TO_LIST', col('ASSESSEDVALUATION')/col('LISTPRICE'))\n",
    "df.select('ASSESSEDVALUATION'\n",
    "          , 'LISTPRICE'\n",
    "          , 'ASSESSED_TO_LIST').sort(col('LISTPRICE').asc()).show(5)"
   ]
  },
  {
   "cell_type": "code",
   "execution_count": 8,
   "metadata": {},
   "outputs": [
    {
     "name": "stdout",
     "output_type": "stream",
     "text": [
      "+-----------+-----+---------+\n",
      "|TAX_TO_LIST|TAXES|LISTPRICE|\n",
      "+-----------+-----+---------+\n",
      "|       0.01| 1858|   139900|\n",
      "|       0.01| 1640|   210000|\n",
      "|       0.01| 2390|   225000|\n",
      "|       0.01| 2146|   230000|\n",
      "|       0.01| 2010|   239900|\n",
      "+-----------+-----+---------+\n",
      "only showing top 5 rows\n",
      "\n"
     ]
    }
   ],
   "source": [
    "# TAX_TO_LIST\n",
    "# to help us understand the approximate tax rate\n",
    "df = df.withColumn('TAX_TO_LIST', round(col('TAXES')/col('LISTPRICE'), 2)) \n",
    "df.select('TAX_TO_LIST', 'TAXES', 'LISTPRICE').show(5)"
   ]
  },
  {
   "cell_type": "code",
   "execution_count": 9,
   "metadata": {},
   "outputs": [
    {
     "name": "stdout",
     "output_type": "stream",
     "text": [
      "+------------+--------+----------+\n",
      "|BED_TO_BATHS|BEDROOMS|BATHSTOTAL|\n",
      "+------------+--------+----------+\n",
      "|         1.5|       3|         2|\n",
      "|        1.33|       4|         3|\n",
      "|         2.0|       2|         1|\n",
      "|         1.0|       2|         2|\n",
      "|         1.5|       3|         2|\n",
      "+------------+--------+----------+\n",
      "only showing top 5 rows\n",
      "\n"
     ]
    }
   ],
   "source": [
    "# BED_TO_BATHS\n",
    "# To help us know how crowded our bathrooms might be \n",
    "df =  df.withColumn('BED_TO_BATHS', round(col('BEDROOMS') / col('BATHSTOTAL'), 2))\n",
    "df.select('BED_TO_BATHS', 'BEDROOMS', 'BATHSTOTAL').show(5)"
   ]
  },
  {
   "cell_type": "code",
   "execution_count": 10,
   "metadata": {},
   "outputs": [],
   "source": [
    "# Can we create a udf instead on doing one ration at once?\n",
    "\n",
    "def generate_ratio(col1, col2):\n",
    "  # Return the ratio\n",
    "  return col1/col2\n",
    "\n",
    "# Define the method as a UDF\n",
    "udf_generate_ratio = udf(generate_ratio, FloatType())\n",
    "\n",
    "# Create a new column using your UDF\n",
    "df = df.withColumn('ASSESSED_TO_LIST_UDF', udf_generate_ratio(df.ASSESSEDVALUATION, df.LISTPRICE))"
   ]
  },
  {
   "cell_type": "code",
   "execution_count": 11,
   "metadata": {},
   "outputs": [
    {
     "name": "stdout",
     "output_type": "stream",
     "text": [
      "+-----------------+---------+--------------------+--------------------+\n",
      "|ASSESSEDVALUATION|LISTPRICE|    ASSESSED_TO_LIST|ASSESSED_TO_LIST_UDF|\n",
      "+-----------------+---------+--------------------+--------------------+\n",
      "|           2861.0|    40000|            0.071525|            0.071525|\n",
      "|            450.0|    44900| 0.01002227171492205|         0.010022271|\n",
      "|           150.22|    49900|0.003010420866146...|        0.0030104208|\n",
      "|           312.78|    50000|0.006255599975585937|           0.0062556|\n",
      "|            344.0|    50000|             0.00688|             0.00688|\n",
      "+-----------------+---------+--------------------+--------------------+\n",
      "only showing top 5 rows\n",
      "\n"
     ]
    }
   ],
   "source": [
    "# Show the DataFrame\n",
    "df.select('ASSESSEDVALUATION'\n",
    "          , 'LISTPRICE'\n",
    "          , 'ASSESSED_TO_LIST'\n",
    "         , 'ASSESSED_TO_LIST_UDF').sort(col('LISTPRICE').asc()).show(5)"
   ]
  },
  {
   "cell_type": "markdown",
   "metadata": {},
   "source": [
    "## 1.3 Deeper Features\n",
    "In previous exercises we showed how combining two features together can create good additional features for a predictive model. In this exercise, you will generate 'deeper' features by combining the effects of three variables into one. Then you will check to see if deeper and more complicated features always make for better predictors."
   ]
  },
  {
   "cell_type": "code",
   "execution_count": 12,
   "metadata": {},
   "outputs": [
    {
     "name": "stdout",
     "output_type": "stream",
     "text": [
      "+-------+-------------------+\n",
      "|summary| BATHS_PER_1000SQFT|\n",
      "+-------+-------------------+\n",
      "|  count|               5000|\n",
      "|   mean| 1.4302617483739894|\n",
      "| stddev|  14.12890410245937|\n",
      "|    min|0.39123630672926446|\n",
      "|    max|             1000.0|\n",
      "+-------+-------------------+\n",
      "\n"
     ]
    }
   ],
   "source": [
    "# Create new feature by adding two features together\n",
    "df = df.withColumn('Total_SQFT', col('SQFTBELOWGROUND') + col('SQFTABOVEGROUND'))\n",
    "\n",
    "# Create additional new feature using previously created feature\n",
    "df = df.withColumn('BATHS_PER_1000SQFT', df['BATHSTOTAL'] / (df['Total_SQFT'] / 1000))\n",
    "\n",
    "df.select('BATHS_PER_1000SQFT').describe().show()"
   ]
  },
  {
   "cell_type": "code",
   "execution_count": 13,
   "metadata": {},
   "outputs": [
    {
     "name": "stderr",
     "output_type": "stream",
     "text": [
      "/home/danae/anaconda3/lib/python3.7/site-packages/seaborn/axisgrid.py:1848: UserWarning: JointGrid annotation is deprecated and will be removed in a future release.\n",
      "  warnings.warn(UserWarning(msg))\n"
     ]
    },
    {
     "data": {
      "image/png": "[encoded data removed]",
      "text/plain": [
       "<Figure size 432x432 with 3 Axes>"
      ]
     },
     "metadata": {
      "needs_background": "light"
     },
     "output_type": "display_data"
    }
   ],
   "source": [
    "# Sample and create pandas dataframe\n",
    "pandas_df = df.sample(False, 0.5, 0).toPandas()\n",
    "\n",
    "# Linear model plots\n",
    "import seaborn as sns\n",
    "import numpy as np\n",
    "import matplotlib.pyplot as plt\n",
    "from scipy import stats\n",
    "\n",
    "def r2(x, y):\n",
    "    return stats.pearsonr(x, y)[0] ** 2\n",
    "\n",
    "sns.jointplot(x='Total_SQFT'\n",
    "              , y='SALESCLOSEPRICE'\n",
    "              , data=pandas_df\n",
    "              , kind=\"reg\"\n",
    "              , stat_func=r2)\n",
    "plt.show()"
   ]
  },
  {
   "cell_type": "code",
   "execution_count": 14,
   "metadata": {},
   "outputs": [
    {
     "name": "stderr",
     "output_type": "stream",
     "text": [
      "/home/danae/anaconda3/lib/python3.7/site-packages/seaborn/axisgrid.py:1848: UserWarning: JointGrid annotation is deprecated and will be removed in a future release.\n",
      "  warnings.warn(UserWarning(msg))\n"
     ]
    },
    {
     "data": {
      "image/png": "[encoded data removed]",
      "text/plain": [
       "<Figure size 432x432 with 3 Axes>"
      ]
     },
     "metadata": {
      "needs_background": "light"
     },
     "output_type": "display_data"
    }
   ],
   "source": [
    "sns.jointplot(x='BATHS_PER_1000SQFT'\n",
    "              , y='SALESCLOSEPRICE'\n",
    "              , data=pandas_df\n",
    "              , kind=\"reg\"\n",
    "              , stat_func=r2)\n",
    "plt.show()"
   ]
  },
  {
   "cell_type": "markdown",
   "metadata": {},
   "source": [
    "# 2. Time Features \n",
    "## 2.1 Components\n",
    "Being able to work with time components for building features is important but you can also use them to explore and understand your data further. In this exercise, you'll be looking to see if there is a pattern to which day of the week a house lists on. Please keep in mind that `PySpark`'s week starts on Sunday, with a value of 1 and ends on Saturday, a value of 7."
   ]
  },
  {
   "cell_type": "code",
   "execution_count": 15,
   "metadata": {},
   "outputs": [],
   "source": [
    "# Import needed functions\n",
    "#from pyspark.sql.functions import to_date, dayofweek\n",
    "\n",
    "# Convert to date type\n",
    "df = df.withColumn('LISTDATE', to_timestamp('LISTDATE', 'dd/MM/yyyy HH:mm'))\n",
    "\n",
    "# Get the day of the week\n",
    "df = df.withColumn('List_Day_of_Week', dayofweek('LISTDATE'))\n",
    "\n",
    "#df.select('List_Day_of_Week').show(5)"
   ]
  },
  {
   "cell_type": "code",
   "execution_count": 16,
   "metadata": {},
   "outputs": [
    {
     "data": {
      "image/png": "[encoded data removed]",
      "text/plain": [
       "<Figure size 432x288 with 1 Axes>"
      ]
     },
     "metadata": {
      "needs_background": "light"
     },
     "output_type": "display_data"
    }
   ],
   "source": [
    "# Sample and convert to pandas dataframe\n",
    "sample_df = df.sample(False, 0.5, 42).toPandas()\n",
    "\n",
    "# Plot count plot of of day of week\n",
    "sns.countplot(x=\"List_Day_of_Week\", data=sample_df)\n",
    "plt.show()"
   ]
  },
  {
   "cell_type": "markdown",
   "metadata": {},
   "source": [
    "## 2.2 Joining On Time Components\n",
    "Often times you will use date components to join in other sets of information. However, in this example, we need to use data that would have been available to those considering buying a house. This means we will need to use the previous year's reporting data for our analysis."
   ]
  },
  {
   "cell_type": "code",
   "execution_count": 17,
   "metadata": {},
   "outputs": [],
   "source": [
    "#from pyspark.sql.functions import year\n",
    "\n",
    "# Initialize dataframes\n",
    "#df = real_estate_df\n",
    "#price_df = median_prices_df\n",
    "\n",
    "# Create year column\n",
    "df = df.withColumn('list_year', year('LISTDATE'))\n",
    "\n",
    "# Adjust year to match\n",
    "df = df.withColumn('report_year', (df['list_year'] - 1))\n",
    "\n",
    "# Create join condition\n",
    "#condition = [df['CITY'] == price_df['City'], df['report_year'] == price_df['Year']]\n",
    "\n",
    "# Join the dataframes together\n",
    "#df = df.join(price_df, on = condition, how = 'left')\n",
    "# Inspect that new columns are available\n",
    "#df[['MedianHomeValue']].show()"
   ]
  },
  {
   "cell_type": "markdown",
   "metadata": {},
   "source": [
    "## 2.3 Date Math\n",
    "In this example, we'll look at verifying the frequency of our data. The Mortgage dataset is supposed to have weekly data but let's make sure by lagging the report date and then taking the difference of the dates.\n",
    "\n",
    "Recall that to create a lagged feature we will need to create a `window()`. The `window()` function allows you to return a value for each record based off some calculation against a group of records, in this case, the previous period's mortgage rate."
   ]
  },
  {
   "cell_type": "code",
   "execution_count": 18,
   "metadata": {},
   "outputs": [],
   "source": [
    "#from pyspark.sql.functions import lag, datediff, to_date\n",
    "#from pyspark.sql.window import Window\n",
    "\n",
    "# Cast data type\n",
    "#mort_df = mort_df.withColumn('DATE', to_date('DATE'))\n",
    "\n",
    "# Create window\n",
    "#w = Window().orderBy(mort_df['DATE'])\n",
    "\n",
    "# Create lag column\n",
    "#mort_df = mort_df.withColumn('DATE-1', lag('DATE', count = 1).over(w))\n",
    "\n",
    "# Calculate difference between date columns\n",
    "#mort_df = mort_df.withColumn('Days_Between_Report', datediff('DATE', 'DATE-1'))\n",
    "\n",
    "# Print results\n",
    "#mort_df.select('Days_Between_Report').distinct().show()"
   ]
  },
  {
   "cell_type": "markdown",
   "metadata": {},
   "source": [
    "# 3.  Extracting Text to New Features\n",
    "## 3.1 Extracting Text to New Features\n",
    "Garages are an important consideration for houses in Minnesota where most people own a car and the snow is annoying to clear off a car parked outside. The type of garage is also important, can you get to your car without braving the cold or not? Let's look at creating a feature `has_attached_garage` that captures whether the garage is attached to the house or not."
   ]
  },
  {
   "cell_type": "code",
   "execution_count": 19,
   "metadata": {},
   "outputs": [
    {
     "name": "stdout",
     "output_type": "stream",
     "text": [
      "+--------------------------------------------------------------+-------------------+\n",
      "|                                             GARAGEDESCRIPTION|has_attached_garage|\n",
      "+--------------------------------------------------------------+-------------------+\n",
      "|                                               Attached Garage|                  1|\n",
      "|       Attached Garage, Driveway - Asphalt, Garage Door Opener|                  1|\n",
      "|                                               Attached Garage|                  1|\n",
      "|Attached Garage, Detached Garage, Tuckunder, Driveway - Gravel|                  1|\n",
      "|       Attached Garage, Driveway - Asphalt, Garage Door Opener|                  1|\n",
      "+--------------------------------------------------------------+-------------------+\n",
      "only showing top 5 rows\n",
      "\n"
     ]
    }
   ],
   "source": [
    "# Import needed functions\n",
    "#from pyspark.sql.functions import when\n",
    "\n",
    "# Create boolean conditions for string matches\n",
    "has_attached_garage = df['GARAGEDESCRIPTION'].like('%Attached Garage%')\n",
    "has_detached_garage = df['GARAGEDESCRIPTION'].like('%Detached Garage%')\n",
    "\n",
    "# Conditional value assignment \n",
    "df = df.withColumn('has_attached_garage', (when(has_attached_garage, 1)\n",
    "                                          .when(has_detached_garage, 0)\n",
    "                                          .otherwise(None)))\n",
    "\n",
    "# Inspect results\n",
    "df.select('GARAGEDESCRIPTION', 'has_attached_garage').show(5, truncate=100)"
   ]
  },
  {
   "cell_type": "markdown",
   "metadata": {},
   "source": [
    "## 3.2 Splitting & Exploding\n",
    "Being able to take a compound field like `GARAGEDESCRIPTION` and massaging it into something useful is an involved process. It's helpful to understand early what value you might gain out of expanding it. In this example, we will convert our string to a list-like array, explode it and then inspect the unique values."
   ]
  },
  {
   "cell_type": "code",
   "execution_count": 20,
   "metadata": {},
   "outputs": [
    {
     "name": "stdout",
     "output_type": "stream",
     "text": [
      "+--------------------+\n",
      "|         garage_list|\n",
      "+--------------------+\n",
      "|   [Attached Garage]|\n",
      "|[Attached Garage,...|\n",
      "|   [Attached Garage]|\n",
      "|[Attached Garage,...|\n",
      "|[Attached Garage,...|\n",
      "+--------------------+\n",
      "only showing top 5 rows\n",
      "\n"
     ]
    }
   ],
   "source": [
    "# Import needed functions\n",
    "#from pyspark.sql.functions import split, explode\n",
    "\n",
    "# Convert string to list-like array\n",
    "df = df.withColumn('garage_list', split(df['GARAGEDESCRIPTION'], ', '))\n",
    "\n",
    "df.select('garage_list').show(5)"
   ]
  },
  {
   "cell_type": "code",
   "execution_count": 21,
   "metadata": {},
   "outputs": [
    {
     "name": "stdout",
     "output_type": "stream",
     "text": [
      "+----------------------------+\n",
      "|              ex_garage_list|\n",
      "+----------------------------+\n",
      "|             Attached Garage|\n",
      "|      On-Street Parking Only|\n",
      "|                        None|\n",
      "| More Parking Onsite for Fee|\n",
      "|          Garage Door Opener|\n",
      "|   No Int Access to Dwelling|\n",
      "|           Driveway - Gravel|\n",
      "|       Valet Parking for Fee|\n",
      "|              Uncovered/Open|\n",
      "|               Heated Garage|\n",
      "|          Underground Garage|\n",
      "|                       Other|\n",
      "|                  Unassigned|\n",
      "|More Parking Offsite for Fee|\n",
      "|    Driveway - Other Surface|\n",
      "|       Contract Pkg Required|\n",
      "|                     Carport|\n",
      "|                     Secured|\n",
      "|             Detached Garage|\n",
      "|          Driveway - Asphalt|\n",
      "|                  Units Vary|\n",
      "|                    Assigned|\n",
      "|                   Tuckunder|\n",
      "|                     Covered|\n",
      "|            Insulated Garage|\n",
      "|         Driveway - Concrete|\n",
      "|                      Tandem|\n",
      "|           Driveway - Shared|\n",
      "+----------------------------+\n",
      "\n"
     ]
    }
   ],
   "source": [
    "# Explode the values into new records\n",
    "ex_df = df.withColumn('ex_garage_list', explode(df['garage_list']))\n",
    "\n",
    "# Inspect the values\n",
    "ex_df[['ex_garage_list']].distinct().show(5, truncate=50)"
   ]
  },
  {
   "cell_type": "markdown",
   "metadata": {},
   "source": [
    "## 3.3 Pivot & Join\n",
    "Being able to explode and pivot a compound field is great, but you are left with a dataframe of only those pivoted values. To really be valuable you'll need to rejoin it to the original dataset! After joining the datasets we will have a lot of NULL values for the newly created columns since we know the context of how they were created we can safely fill them in with zero as either the new has an attribute or it doesn't."
   ]
  },
  {
   "cell_type": "code",
   "execution_count": 22,
   "metadata": {},
   "outputs": [],
   "source": [
    "#from pyspark.sql.functions import coalesce, first\n",
    "\n",
    "# Pivot \n",
    "#piv_df = ex_df.groupBy('NO').pivot('ex_garage_list').agg(coalesce(first('constant_val')))\n",
    "#piv_df.show(5)\n",
    "\n",
    "# Join the dataframes together and fill null\n",
    "#joined_df = df.join(piv_df, on='NO', how='left')\n",
    "\n",
    "# Columns to zero fill\n",
    "#zfill_cols = piv_df.columns\n",
    "\n",
    "# Zero fill the pivoted values\n",
    "#zfilled_df = joined_df.fillna(0, subset=zfill_cols)"
   ]
  },
  {
   "cell_type": "markdown",
   "metadata": {},
   "source": [
    "# 4. Binarizing, Bucketing & Encoding\n",
    "\n",
    "## 4.1 Binarizing Day of Week\n",
    "\n",
    "In a previous video, we saw that it was very unlikely for a home to list on the weekend. Let's create a new field that says if the house is listed for sale on a weekday or not. In this example there is a field called List_Day_of_Week that has Monday is labeled 1.0 and Sunday is 7.0. Let's convert this to a binary field with weekday being 0 and weekend being 1. We can use the pyspark feature transformer Binarizer to do this.\n"
   ]
  },
  {
   "cell_type": "code",
   "execution_count": 23,
   "metadata": {},
   "outputs": [],
   "source": [
    "# Import transformer\n",
    "from pyspark.ml.feature import Binarizer\n",
    "\n",
    "df = df.withColumn('List_Day_of_Week', df['List_Day_of_Week'].cast('double'))\n",
    "\n",
    "# Create the transformer\n",
    "binarizer = Binarizer(threshold=5.0, inputCol='List_Day_of_Week', outputCol='Listed_On_Weekend')\n",
    "\n",
    "# Apply the transformation to df\n",
    "df = binarizer.transform(df)"
   ]
  },
  {
   "cell_type": "code",
   "execution_count": 24,
   "metadata": {},
   "outputs": [
    {
     "name": "stdout",
     "output_type": "stream",
     "text": [
      "+----------------+-----------------+\n",
      "|List_Day_of_Week|Listed_On_Weekend|\n",
      "+----------------+-----------------+\n",
      "|             7.0|              1.0|\n",
      "|             7.0|              1.0|\n",
      "|             7.0|              1.0|\n",
      "|             7.0|              1.0|\n",
      "|             7.0|              1.0|\n",
      "+----------------+-----------------+\n",
      "only showing top 5 rows\n",
      "\n"
     ]
    }
   ],
   "source": [
    "# Verify transformation\n",
    "df.select('List_Day_of_Week'\n",
    "          , 'Listed_On_Weekend').sort(col('List_Day_of_Week').desc()).show(5)"
   ]
  },
  {
   "cell_type": "markdown",
   "metadata": {},
   "source": [
    "## 4.2 Bucketing\n",
    "If you are a homeowner its very important if a house has 1, 2, 3 or 4 bedrooms. But like bathrooms, once you hit a certain point you don't really care whether the house has 7 or 8. This example we'll look at how to figure out where are some good value points to bucket."
   ]
  },
  {
   "cell_type": "code",
   "execution_count": 25,
   "metadata": {},
   "outputs": [
    {
     "data": {
      "text/plain": [
       "0    3\n",
       "1    3\n",
       "2    3\n",
       "3    3\n",
       "4    3\n",
       "Name: BEDROOMS, dtype: int64"
      ]
     },
     "execution_count": 25,
     "metadata": {},
     "output_type": "execute_result"
    }
   ],
   "source": [
    "sample_df['BEDROOMS'].head()"
   ]
  },
  {
   "cell_type": "code",
   "execution_count": 26,
   "metadata": {},
   "outputs": [],
   "source": [
    "# Plot distribution of sample_df\n",
    "#sns.distplot(sample_df, axlabel='BEDROOMS')\n",
    "#plt.show()"
   ]
  },
  {
   "cell_type": "code",
   "execution_count": 27,
   "metadata": {},
   "outputs": [
    {
     "name": "stdout",
     "output_type": "stream",
     "text": [
      "+--------+--------+\n",
      "|BEDROOMS|bedrooms|\n",
      "+--------+--------+\n",
      "|     3.0|     3.0|\n",
      "|     4.0|     4.0|\n",
      "|     2.0|     2.0|\n",
      "|     2.0|     2.0|\n",
      "|     3.0|     3.0|\n",
      "+--------+--------+\n",
      "only showing top 5 rows\n",
      "\n"
     ]
    }
   ],
   "source": [
    "from pyspark.ml.feature import Bucketizer\n",
    "\n",
    "# Create the bucket splits and bucketizer\n",
    "splits = [0, 1, 2, 3, 4, 5, float('Inf')]\n",
    "buck = Bucketizer(splits=splits, inputCol='BEDROOMS', outputCol='bedrooms')\n",
    "\n",
    "# Apply the transformation to df: df_bucket\n",
    "df_bucket = buck.transform(df)\n",
    "\n",
    "# Display results\n",
    "df_bucket[['BEDROOMS', 'bedrooms']].show(5)"
   ]
  },
  {
   "cell_type": "markdown",
   "metadata": {},
   "source": [
    "## 4.3 One Hot Encoding\n",
    "\n",
    "In the United States where you live determines which schools your kids can attend. Therefore it's understandable that many people care deeply about which school districts their future home will be in. While the school districts are numbered in `SCHOOLDISTRICTNUMBER` they are really categorical. Meaning that summing or averaging these values has no apparent meaning. Therefore in this example we will convert `SCHOOLDISTRICTNUMBER` from a categorial variable into a numeric vector to use in our machine learning model later."
   ]
  },
  {
   "cell_type": "code",
   "execution_count": 28,
   "metadata": {},
   "outputs": [
    {
     "name": "stdout",
     "output_type": "stream",
     "text": [
      "+-----------------------------+------------+-------------+\n",
      "|         SCHOOLDISTRICTNUMBER|School_Index|   School_Vec|\n",
      "+-----------------------------+------------+-------------+\n",
      "|             834 - Stillwater|         3.0|(7,[3],[1.0])|\n",
      "|             834 - Stillwater|         3.0|(7,[3],[1.0])|\n",
      "|622 - North St Paul-Maplewood|         1.0|(7,[1],[1.0])|\n",
      "|             834 - Stillwater|         3.0|(7,[3],[1.0])|\n",
      "|622 - North St Paul-Maplewood|         1.0|(7,[1],[1.0])|\n",
      "|             834 - Stillwater|         3.0|(7,[3],[1.0])|\n",
      "|             834 - Stillwater|         3.0|(7,[3],[1.0])|\n",
      "|             834 - Stillwater|         3.0|(7,[3],[1.0])|\n",
      "|             834 - Stillwater|         3.0|(7,[3],[1.0])|\n",
      "|             834 - Stillwater|         3.0|(7,[3],[1.0])|\n",
      "|             834 - Stillwater|         3.0|(7,[3],[1.0])|\n",
      "|             834 - Stillwater|         3.0|(7,[3],[1.0])|\n",
      "|             834 - Stillwater|         3.0|(7,[3],[1.0])|\n",
      "|             834 - Stillwater|         3.0|(7,[3],[1.0])|\n",
      "|             834 - Stillwater|         3.0|(7,[3],[1.0])|\n",
      "|             834 - Stillwater|         3.0|(7,[3],[1.0])|\n",
      "|             834 - Stillwater|         3.0|(7,[3],[1.0])|\n",
      "|             834 - Stillwater|         3.0|(7,[3],[1.0])|\n",
      "|             834 - Stillwater|         3.0|(7,[3],[1.0])|\n",
      "|             834 - Stillwater|         3.0|(7,[3],[1.0])|\n",
      "+-----------------------------+------------+-------------+\n",
      "only showing top 20 rows\n",
      "\n"
     ]
    }
   ],
   "source": [
    "from pyspark.ml.feature import OneHotEncoder, StringIndexer\n",
    "\n",
    "# Map strings to numbers with string indexer\n",
    "string_indexer = StringIndexer(inputCol='SCHOOLDISTRICTNUMBER', outputCol='School_Index')\n",
    "indexed_df = string_indexer.fit(df).transform(df)\n",
    "\n",
    "# Onehot encode indexed values\n",
    "encoder = OneHotEncoder(inputCol='School_Index', outputCol='School_Vec')\n",
    "encoded_df = encoder.transform(indexed_df)\n",
    "\n",
    "# Inspect the transformation steps\n",
    "encoded_df[['SCHOOLDISTRICTNUMBER', 'School_Index', 'School_Vec']].show(5, truncate=100)"
   ]
  },
  {
   "cell_type": "code",
   "execution_count": 29,
   "metadata": {},
   "outputs": [],
   "source": [
    "sc.stop() # close the spark session"
   ]
  }
 ],
 "metadata": {
  "kernelspec": {
   "display_name": "Python 3",
   "language": "python",
   "name": "python3"
  },
  "language_info": {
   "codemirror_mode": {
    "name": "ipython",
    "version": 3
   },
   "file_extension": ".py",
   "mimetype": "text/x-python",
   "name": "python",
   "nbconvert_exporter": "python",
   "pygments_lexer": "ipython3",
   "version": "3.7.6"
  }
 },
 "nbformat": 4,
 "nbformat_minor": 4
}
